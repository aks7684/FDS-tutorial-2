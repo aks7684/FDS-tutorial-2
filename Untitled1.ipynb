{
  "metadata": {
    "kernelspec": {
      "name": "python",
      "display_name": "Python (Pyodide)",
      "language": "python"
    },
    "language_info": {
      "codemirror_mode": {
        "name": "python",
        "version": 3
      },
      "file_extension": ".py",
      "mimetype": "text/x-python",
      "name": "python",
      "nbconvert_exporter": "python",
      "pygments_lexer": "ipython3",
      "version": "3.8"
    }
  },
  "nbformat_minor": 4,
  "nbformat": 4,
  "cells": [
    {
      "cell_type": "code",
      "source": "import numpy as np\na=np.array([[ 1, 2, 3],[ 7, 4, 9] ,[ 3, 2, 8]])\nprint(a)\na.flags",
      "metadata": {
        "trusted": true
      },
      "outputs": [
        {
          "name": "stdout",
          "text": "[[1 2 3]\n [7 4 9]\n [3 2 8]]\n",
          "output_type": "stream"
        },
        {
          "execution_count": 1,
          "output_type": "execute_result",
          "data": {
            "text/plain": "  C_CONTIGUOUS : True\n  F_CONTIGUOUS : False\n  OWNDATA : True\n  WRITEABLE : True\n  ALIGNED : True\n  WRITEBACKIFCOPY : False"
          },
          "metadata": {}
        }
      ],
      "execution_count": 1
    },
    {
      "cell_type": "code",
      "source": "import numpy as np\na=np.array([[ 1, 2, 3],[ 7, 4, 9] ,[ 3, 2, 8]])\nprint(a)\na.shape",
      "metadata": {
        "trusted": true
      },
      "outputs": [
        {
          "name": "stdout",
          "text": "[[1 2 3]\n [7 4 9]\n [3 2 8]]\n",
          "output_type": "stream"
        },
        {
          "execution_count": 2,
          "output_type": "execute_result",
          "data": {
            "text/plain": "(3, 3)"
          },
          "metadata": {}
        }
      ],
      "execution_count": 2
    },
    {
      "cell_type": "code",
      "source": "import numpy as np\na=np.array([[ 1, 2, 3],[ 7, 4, 9] ,[ 3, 2, 8]])\nprint(a)\na.strides",
      "metadata": {
        "trusted": true
      },
      "outputs": [
        {
          "name": "stdout",
          "text": "[[1 2 3]\n [7 4 9]\n [3 2 8]]\n",
          "output_type": "stream"
        },
        {
          "execution_count": 3,
          "output_type": "execute_result",
          "data": {
            "text/plain": "(12, 4)"
          },
          "metadata": {}
        }
      ],
      "execution_count": 3
    },
    {
      "cell_type": "code",
      "source": "import numpy as np\na=np.array([[ 1, 2, 3],[ 7, 4, 9] ,[ 3, 2, 8]])\nprint(a)\na.ndim",
      "metadata": {
        "trusted": true
      },
      "outputs": [
        {
          "name": "stdout",
          "text": "[[1 2 3]\n [7 4 9]\n [3 2 8]]\n",
          "output_type": "stream"
        },
        {
          "execution_count": 4,
          "output_type": "execute_result",
          "data": {
            "text/plain": "2"
          },
          "metadata": {}
        }
      ],
      "execution_count": 4
    },
    {
      "cell_type": "code",
      "source": "import numpy as np\na=np.array([[ 1, 2, 3],[ 7, 4, 9] ,[ 3, 2, 8]])\nprint(a)\na.data",
      "metadata": {
        "trusted": true
      },
      "outputs": [
        {
          "name": "stdout",
          "text": "[[1 2 3]\n [7 4 9]\n [3 2 8]]\n",
          "output_type": "stream"
        },
        {
          "execution_count": 5,
          "output_type": "execute_result",
          "data": {
            "text/plain": "<memory at 0x32a3528>"
          },
          "metadata": {}
        }
      ],
      "execution_count": 5
    },
    {
      "cell_type": "code",
      "source": "import numpy as np\na=np.array([[ 1, 2, 3],[ 7, 4, 9] ,[ 3, 2, 8]])\nprint(a)\na.size",
      "metadata": {
        "trusted": true
      },
      "outputs": [
        {
          "name": "stdout",
          "text": "[[1 2 3]\n [7 4 9]\n [3 2 8]]\n",
          "output_type": "stream"
        },
        {
          "execution_count": 6,
          "output_type": "execute_result",
          "data": {
            "text/plain": "9"
          },
          "metadata": {}
        }
      ],
      "execution_count": 6
    },
    {
      "cell_type": "code",
      "source": "import numpy as np\na=np.array([[ 1, 2, 3],[ 7, 4, 9] ,[ 3, 2, 8]])\nprint(a)\na.itemsize",
      "metadata": {
        "trusted": true
      },
      "outputs": [
        {
          "name": "stdout",
          "text": "[[1 2 3]\n [7 4 9]\n [3 2 8]]\n",
          "output_type": "stream"
        },
        {
          "execution_count": 7,
          "output_type": "execute_result",
          "data": {
            "text/plain": "4"
          },
          "metadata": {}
        }
      ],
      "execution_count": 7
    },
    {
      "cell_type": "code",
      "source": "import numpy as np\na=np.array([[ 1, 2, 3],[ 7, 4, 9] ,[ 3, 2, 8]])\nprint(a)\na.base",
      "metadata": {
        "trusted": true
      },
      "outputs": [
        {
          "name": "stdout",
          "text": "[[1 2 3]\n [7 4 9]\n [3 2 8]]\n",
          "output_type": "stream"
        }
      ],
      "execution_count": 8
    },
    {
      "cell_type": "code",
      "source": "import numpy as np\na=np.array([[ 1, 2, 3],[ 7, 4, 9] ,[ 3, 2, 8]])\nprint(a)\na.nbytes",
      "metadata": {
        "trusted": true
      },
      "outputs": [
        {
          "name": "stdout",
          "text": "[[1 2 3]\n [7 4 9]\n [3 2 8]]\n",
          "output_type": "stream"
        },
        {
          "execution_count": 9,
          "output_type": "execute_result",
          "data": {
            "text/plain": "36"
          },
          "metadata": {}
        }
      ],
      "execution_count": 9
    },
    {
      "cell_type": "code",
      "source": "import numpy as np\na=np.array([[ 1, 2, 3],[ 7, 4, 9] ,[ 3, 2, 8]])\nprint(a)\na.T",
      "metadata": {
        "trusted": true
      },
      "outputs": [
        {
          "name": "stdout",
          "text": "[[1 2 3]\n [7 4 9]\n [3 2 8]]\n",
          "output_type": "stream"
        },
        {
          "execution_count": 10,
          "output_type": "execute_result",
          "data": {
            "text/plain": "array([[1, 7, 3],\n       [2, 4, 2],\n       [3, 9, 8]])"
          },
          "metadata": {}
        }
      ],
      "execution_count": 10
    },
    {
      "cell_type": "code",
      "source": "import numpy as np\na=np.array([[ 1, 2, 3],[ 7, 4, 9] ,[ 3, 2, 8]])\nprint(a)\na.real",
      "metadata": {
        "trusted": true
      },
      "outputs": [
        {
          "name": "stdout",
          "text": "[[1 2 3]\n [7 4 9]\n [3 2 8]]\n",
          "output_type": "stream"
        },
        {
          "execution_count": 11,
          "output_type": "execute_result",
          "data": {
            "text/plain": "array([[1, 2, 3],\n       [7, 4, 9],\n       [3, 2, 8]])"
          },
          "metadata": {}
        }
      ],
      "execution_count": 11
    },
    {
      "cell_type": "code",
      "source": "import numpy as np\na=np.array([[ 1, 2, 3],[ 7, 4, 9] ,[ 3, 2, 8]])\nprint(a)\na.imag",
      "metadata": {
        "trusted": true
      },
      "outputs": [
        {
          "name": "stdout",
          "text": "[[1 2 3]\n [7 4 9]\n [3 2 8]]\n",
          "output_type": "stream"
        },
        {
          "execution_count": 12,
          "output_type": "execute_result",
          "data": {
            "text/plain": "array([[0, 0, 0],\n       [0, 0, 0],\n       [0, 0, 0]])"
          },
          "metadata": {}
        }
      ],
      "execution_count": 12
    },
    {
      "cell_type": "code",
      "source": "",
      "metadata": {
        "trusted": true
      },
      "outputs": [],
      "execution_count": null
    }
  ]
}